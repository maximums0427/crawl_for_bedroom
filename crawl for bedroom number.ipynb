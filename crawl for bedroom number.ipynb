{
 "cells": [
  {
   "cell_type": "code",
   "execution_count": 1,
   "metadata": {
    "collapsed": true
   },
   "outputs": [],
   "source": [
    "import pandas as pd\n",
    "import numpy as np\n",
    "from matplotlib import pyplot as plt\n",
    "from hive_prd import get_data\n",
    "from datetime import date\n",
    "from tqdm import tqdm\n",
    "import re"
   ]
  },
  {
   "cell_type": "code",
   "execution_count": 9,
   "metadata": {},
   "outputs": [
    {
     "name": "stdout",
     "output_type": "stream",
     "text": [
      "height has been deprecated.\n",
      "\n"
     ]
    }
   ],
   "source": [
    "pd.set_option('display.height', 1000)\n",
    "pd.set_option('display.max_rows', 500)\n",
    "pd.set_option('display.max_columns', 500)\n",
    "pd.set_option('display.width', 1000)"
   ]
  },
  {
   "cell_type": "code",
   "execution_count": 45,
   "metadata": {},
   "outputs": [],
   "source": [
    "#df = get_data('select * from sp_customer.lp_bv_chat_transcript where time>=\\'2017-03-01 00:00:00.0000000000\\'')\n",
    "query = '''select * from customer.dl_cr_customer_canvas \n",
    "where contract_start_date>=\\'2015-01-01\\' and contract_start_date<\\'2015-02-01\\''''\n",
    "df = get_data(query)"
   ]
  },
  {
   "cell_type": "code",
   "execution_count": 204,
   "metadata": {},
   "outputs": [],
   "source": [
    "from tqdm import tqdm"
   ]
  },
  {
   "cell_type": "code",
   "execution_count": 388,
   "metadata": {},
   "outputs": [
    {
     "name": "stderr",
     "output_type": "stream",
     "text": [
      "  0%|                                                   | 0/49 [00:00<?, ?it/s]C:\\Users\\A138262\\AppData\\Local\\Continuum\\Anaconda3\\lib\\site-packages\\bs4\\__init__.py:166: UserWarning: No parser was explicitly specified, so I'm using the best available HTML parser for this system (\"lxml\"). This usually isn't a problem, but if you run this code on another system, or in a different virtual environment, it may use a different parser and behave differently.\n",
      "\n",
      "To get rid of this warning, change this:\n",
      "\n",
      " BeautifulSoup([your markup])\n",
      "\n",
      "to this:\n",
      "\n",
      " BeautifulSoup([your markup], \"lxml\")\n",
      "\n",
      "  markup_type=markup_type))\n",
      "100%|##########################################| 49/49 [02:34<00:00,  3.18s/it]\n"
     ]
    }
   ],
   "source": [
    "from bs4 import BeautifulSoup\n",
    "import requests\n",
    "\n",
    "street_nos = df.sap_supply_point_house_num1.values\n",
    "addrs = df.supply_address + ' ' +df.sap_supply_point_city+ ' '+ df['sap_supply_point_state']\n",
    "\n",
    "street_nos = street_nos[100:150]\n",
    "addrs = addrs[100:150].values\n",
    "\n",
    "def find_bed_on_realestate(links,street_no):\n",
    "    bed = 0\n",
    "    bath = 0\n",
    "    for link in links:\n",
    "        r = requests.get(link)\n",
    "        if street_no is not None and street_no in r.text:\n",
    "            soup = BeautifulSoup(r.text) #realestatelink\n",
    "            match = re.search('features\":{\"general\":{\"bedrooms\":(\\d),\"bathrooms\":(\\d)',soup.text)\n",
    "            if match:\n",
    "                bed = int(match.group(1))\n",
    "                bath = int(match.group(2))\n",
    "                return bed,bath\n",
    "            match = soup.findAll(\"span\", { \"class\" : \"config-num\" })\n",
    "            if match:\n",
    "                try:\n",
    "                    bed = int(match[0].string)\n",
    "                    bath = int(match[0].string)\n",
    "                except:\n",
    "                    continue\n",
    "                return bed,bath\n",
    "    return bed,bath \n",
    "\n",
    "def find_bed_on_ksou(links,street_no):\n",
    "    bed = 0\n",
    "    bath = 0\n",
    "    for link in links:\n",
    "        r = requests.get(link)\n",
    "        if street_no is not None and street_no in r.text:\n",
    "            soup = BeautifulSoup(r.text) #realestatelink\n",
    "            match = re.search('(\\d) <b>Bed</b> rooms (\\d)',str(a))\n",
    "            if match:\n",
    "                bed = int(match.group(1))\n",
    "                bath = int(match.group(2))\n",
    "                return bed,bath\n",
    "    return bed,bath     \n",
    "\n",
    "beds = []\n",
    "baths = []\n",
    "for i in tqdm(range(len(addrs)-1),ascii=True):\n",
    "    r = requests.get('https://www.google.com.au/search?q='+addrs[i].replace(' ','+')+'+bedroom')\n",
    "    soup = BeautifulSoup(r.text)\n",
    "    realestatelink = []\n",
    "\n",
    "    for ti in soup.find_all('h3'):\n",
    "        for ele in ti.find_all('a'):\n",
    "            link = ele.get('href')\n",
    "            if 'realestate.com.au' in link:\n",
    "                match = re.search(r'/url\\?q=(.+)&sa=', link)\n",
    "                if match is not None:\n",
    "                    realestatelink.append(match.group(1))\n",
    "\n",
    "    bed,bath = find_bed_on_realestate(realestatelink,street_nos[i])\n",
    "    \n",
    "    \n",
    "    if bed == 0:\n",
    "        r = requests.get('https://www.google.com.au/search?q='+addrs[i].replace(' ','+')+'+ksou+bedroom')\n",
    "        soup = BeautifulSoup(r.text)\n",
    "        \n",
    "        desc = soup.findAll(\"span\", { \"class\" : \"st\" })\n",
    "        for item in desc:\n",
    "            match = re.search('(\\d) <b>Bed</b> rooms (\\d)',str(item))\n",
    "            if match:\n",
    "                bed = int(match.group(1))\n",
    "                bath = int(match.group(2))\n",
    "    \n",
    "    beds.append(bed)\n",
    "    baths.append(bath)"
   ]
  },
  {
   "cell_type": "code",
   "execution_count": null,
   "metadata": {
    "collapsed": true
   },
   "outputs": [],
   "source": []
  }
 ],
 "metadata": {
  "kernelspec": {
   "display_name": "Python 3",
   "language": "python",
   "name": "python3"
  },
  "language_info": {
   "codemirror_mode": {
    "name": "ipython",
    "version": 3
   },
   "file_extension": ".py",
   "mimetype": "text/x-python",
   "name": "python",
   "nbconvert_exporter": "python",
   "pygments_lexer": "ipython3",
   "version": "3.5.4"
  }
 },
 "nbformat": 4,
 "nbformat_minor": 1
}
